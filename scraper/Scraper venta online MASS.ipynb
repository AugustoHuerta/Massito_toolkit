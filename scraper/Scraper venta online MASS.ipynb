{
 "cells": [
  {
   "cell_type": "markdown",
   "id": "160dc211",
   "metadata": {},
   "source": [
    "### Notas antes de leer:\n",
    "1. NO ESTA BIEN DOCUMENTADO. Justo cuando conseguí lo que necesitaba deje de documentar el proyecto, queda pendiente.\n",
    "2. Logra combina bs4, selenium y pandas para sacar el df que quería en 11 segundos.\n",
    "(De lo que habría tomado al menos 1 hora y media JAJAJAJ)\n",
    "3. Aprendizaje de este project = Como usar el \"select\" method de selenium para los valores de\n",
    "dropdown. (Como la selección de una fecha en este caso)\n",
    "4. Tiempo tomado para lograrlo: 2horas con 54 minutos (2.9 horas). Menos 1.22 horas que me tomé con inversiones de Microwd. (Y eso que ni tocaba selenium en 40 días)\n",
    "5. Este proyecto tiene información confidencial. Tener cuidado"
   ]
  },
  {
   "cell_type": "markdown",
   "id": "bb1788be",
   "metadata": {},
   "source": [
    "## Paso 1: Sentar el driver."
   ]
  },
  {
   "cell_type": "markdown",
   "id": "e2a058d3",
   "metadata": {},
   "source": [
    "- Nota: NO ACTUALIZES CHROME. El webdriver (El archivo necesario para correr selenium en chrome) solo funciona con una versión específica de chrome. Ten cuidado."
   ]
  },
  {
   "cell_type": "code",
   "execution_count": 110,
   "id": "cbf0fd90",
   "metadata": {},
   "outputs": [],
   "source": [
    "import html5lib\n",
    "import pandas as pd\n",
    "import time\n",
    "from bs4 import BeautifulSoup\n",
    "from selenium import webdriver\n",
    "from selenium.webdriver.common.by import By\n",
    "from selenium.webdriver.common.action_chains import ActionChains\n",
    "from selenium.webdriver.support.ui import WebDriverWait #This and the other one waits\n",
    "from selenium.webdriver.support import expected_conditions as EC\n",
    "from selenium.common.exceptions import TimeoutException\n",
    "from selenium.webdriver.support.ui import Select # Para obtener todos los valores de todas las fechas\n",
    "import time\n",
    "from creds_ventas import USERNAME\n",
    "from creds_ventas import PASSWORD"
   ]
  },
  {
   "cell_type": "code",
   "execution_count": 120,
   "id": "5f7e1e8c",
   "metadata": {},
   "outputs": [],
   "source": [
    "url_base = 'http://ventaenlinea.spsa.pe:8091/'"
   ]
  },
  {
   "cell_type": "code",
   "execution_count": 121,
   "id": "c2d70012",
   "metadata": {},
   "outputs": [],
   "source": [
    "options = webdriver.ChromeOptions()\n",
    "options.add_argument(\"start-maximized\")\n",
    "options.add_experimental_option(\"excludeSwitches\", [\"enable-automation\"])\n",
    "options.add_experimental_option('useAutomationExtension', False)\n",
    "driver = webdriver.Chrome(executable_path='./chromedriver',options=options)"
   ]
  },
  {
   "cell_type": "markdown",
   "id": "908f543b",
   "metadata": {},
   "source": [
    "## Iniciar sesión dentro de la página de ventas de intercorp."
   ]
  },
  {
   "cell_type": "code",
   "execution_count": 122,
   "id": "199ddf44",
   "metadata": {},
   "outputs": [],
   "source": [
    "# Entrar a la URL\n",
    "driver.get(url_base)\n",
    "# -Primera vez: Me pide usuario y contraseña.\n",
    "# - Sí. Lo pide mientras no guardes contra ni usuario en el webdriver.\n",
    "\n",
    "username = driver.find_element(By.XPATH,'//*[@id=\"txtLogin\"]')\n",
    "password = driver.find_element(By.XPATH,'//*[@id=\"txtPasw\"]')\n",
    "\n",
    "username.send_keys(USERNAME)\n",
    "password.send_keys(PASSWORD)\n",
    "\n",
    "driver.find_element_by_id(\"Button1\").click()"
   ]
  },
  {
   "cell_type": "markdown",
   "id": "6e0323bc",
   "metadata": {},
   "source": [
    "## Entrar al formato Mass"
   ]
  },
  {
   "cell_type": "markdown",
   "id": "f35a70d2",
   "metadata": {},
   "source": [
    "### Entrar al formato y ver las estadísticas de todas las tiendas"
   ]
  },
  {
   "cell_type": "code",
   "execution_count": 125,
   "id": "1fe88fea",
   "metadata": {},
   "outputs": [],
   "source": [
    "# Por si lo usamos justo cuando se creó un nuevo día\n",
    "drp_fecha = Select(driver.find_element(By.TAG_NAME, 'select'))\n",
    "all_dates = [date.get_attribute('value') for date in drp_fecha.options]\n",
    "drp_fecha.select_by_value(all_dates[2])"
   ]
  },
  {
   "cell_type": "code",
   "execution_count": 126,
   "id": "0bda46ec",
   "metadata": {},
   "outputs": [],
   "source": [
    "# Seleccionar SPSA\n",
    "driver.find_element(By.XPATH,'//*[@id=\"form1\"]/div[3]/table[2]/tbody/tr[2]/td[1]/a').click()"
   ]
  },
  {
   "cell_type": "code",
   "execution_count": 115,
   "id": "46fd7101",
   "metadata": {},
   "outputs": [],
   "source": [
    "# Seleccionar MASS\n",
    "driver.find_element(By.XPATH,'//*[@id=\"form1\"]/div[3]/table[2]/tbody/tr[5]/td[1]/a').click()"
   ]
  },
  {
   "cell_type": "markdown",
   "id": "d1cf9e38",
   "metadata": {},
   "source": [
    "### Obtener todas las estadísticas de todas las tiendas solo hoy día."
   ]
  },
  {
   "cell_type": "code",
   "execution_count": 116,
   "id": "c0139dea",
   "metadata": {},
   "outputs": [],
   "source": [
    "def parse_table(table_soup):\n",
    "    data_for_df = []\n",
    "    table_body = table_soup.find('tbody')\n",
    "    rows = table_body.find_all('tr')\n",
    "    for row in rows:\n",
    "        cols = row.find_all('td')\n",
    "        cols = [ele.text.strip() for ele in cols]\n",
    "        data_for_df.append([ele for ele in cols if ele]) # Get rid of empty values\n",
    "    return data_for_df"
   ]
  },
  {
   "cell_type": "code",
   "execution_count": null,
   "id": "f67e6e8a",
   "metadata": {},
   "outputs": [],
   "source": [
    "# Bien. Ahora nos va a desplegar un listado de todos los Mass que están registrados.\n",
    "# El objetivo es obtener los metadatos de todos los Mass pero de TODOS los días posibles.\n",
    "# Para realizar esto primero me voy a enfocar a obtener todos estos datos de almenos este día."
   ]
  },
  {
   "cell_type": "code",
   "execution_count": 47,
   "id": "8f05b96e",
   "metadata": {},
   "outputs": [],
   "source": [
    "# Obtiene los datos de todas\n",
    "html = driver.page_source\n",
    "soup = BeautifulSoup(html,'html.parser')\n",
    "table_soup = soup.find(\"table\", {\"id\":\"datos\"})\n",
    "data_all_sucursales = parse_table(table_soup)"
   ]
  },
  {
   "cell_type": "code",
   "execution_count": 95,
   "id": "82ab819b",
   "metadata": {},
   "outputs": [],
   "source": [
    "headers = ('Sucursal', 'Vta Nta', 'Meta', 'Cump%', 'Trxs', 'Vta LY', 'LY%')"
   ]
  },
  {
   "cell_type": "code",
   "execution_count": 96,
   "id": "2b88f595",
   "metadata": {},
   "outputs": [],
   "source": [
    "df = pd.DataFrame(data_all_sucursales, columns = headers)\n",
    "# Mala (La primera tienda de la lista) aparece como el segundo elemento aquí.\n",
    "# Loreto (La última tienda de la lista) aparece como el antepenultimo elemento aquí.\n",
    "df = df[1:-3] # Así que recortamos nuestra lista"
   ]
  },
  {
   "cell_type": "code",
   "execution_count": 97,
   "id": "bdab4dc2",
   "metadata": {},
   "outputs": [],
   "source": [
    "df['Day'] = 'Holis' # Perfecto. Funciona genial"
   ]
  },
  {
   "cell_type": "markdown",
   "id": "8050ce51",
   "metadata": {},
   "source": [
    "### Ahora vemos como sacarlo para todos los días."
   ]
  },
  {
   "cell_type": "code",
   "execution_count": 64,
   "id": "2193221f",
   "metadata": {},
   "outputs": [],
   "source": []
  },
  {
   "cell_type": "code",
   "execution_count": 78,
   "id": "7ebf3968",
   "metadata": {},
   "outputs": [
    {
     "data": {
      "text/plain": [
       "<selenium.webdriver.support.select.Select at 0x7fca610ab438>"
      ]
     },
     "execution_count": 78,
     "metadata": {},
     "output_type": "execute_result"
    }
   ],
   "source": [
    "drp_fecha = Select(driver.find_element(By.TAG_NAME, 'select')) # Esto permite obtener los valores\n",
    "# del dropdown de las fechas\n",
    "drp_fecha"
   ]
  },
  {
   "cell_type": "code",
   "execution_count": 85,
   "id": "2ed33b60",
   "metadata": {},
   "outputs": [
    {
     "data": {
      "text/plain": [
       "31"
      ]
     },
     "execution_count": 85,
     "metadata": {},
     "output_type": "execute_result"
    }
   ],
   "source": [
    "# Esto obtiene todas las fechas\n",
    "drp_fecha = Select(driver.find_element(By.TAG_NAME, 'select'))\n",
    "all_dates = [date.get_attribute('value') for date in drp_fecha.options]\n",
    "len(all_dates)"
   ]
  },
  {
   "cell_type": "code",
   "execution_count": null,
   "id": "75f89089",
   "metadata": {},
   "outputs": [],
   "source": [
    "# Esto carga todos los datos de cada día en el listado\n",
    "for date in all_dates:\n",
    "    drp_fecha = Select(driver.find_element(By.TAG_NAME, 'select'))\n",
    "    drp_fecha.select_by_value(date)\n",
    "    print(date)"
   ]
  },
  {
   "cell_type": "code",
   "execution_count": 118,
   "id": "8623ef34",
   "metadata": {},
   "outputs": [],
   "source": [
    "lister_dfs = []\n",
    "headers = ('Sucursal', 'Vta Nta', 'Meta', 'Cump%', 'Trxs', 'Vta LY', 'LY%')\n",
    "start = time.process_time()\n",
    "# Esto carga todos los datos de cada día en el listado\n",
    "for date in all_dates:\n",
    "    drp_fecha = Select(driver.find_element(By.TAG_NAME, 'select'))\n",
    "    drp_fecha.select_by_value(date)\n",
    "    print(\"Obteniendo datos de:\", date)\n",
    "    ###\n",
    "    html = driver.page_source\n",
    "    soup = BeautifulSoup(html,'html.parser')\n",
    "    table_soup = soup.find(\"table\", {\"id\":\"datos\"})\n",
    "    data_all_sucursales = parse_table(table_soup)\n",
    "    df = pd.DataFrame(data_all_sucursales, columns = headers)\n",
    "    # Mala (La primera tienda de la lista) aparece como el segundo elemento aquí.\n",
    "    # Loreto (La última tienda de la lista) aparece como el antepenultimo elemento aquí.\n",
    "    df = df[1:-3] # Así que recortamos nuestra lista\n",
    "    df['Day'] = date # Sentado día\n",
    "    ###\n",
    "    lister_dfs.append(df)\n",
    "    print(\"Datos obtenidos con exito!\")\n",
    "print(\"LOGRADOOOO. Tiempo tomado:\", time.process_time() - start)\n",
    "final_df = pd.concat(lister_dfs,ignore_index=True)"
   ]
  },
  {
   "cell_type": "code",
   "execution_count": null,
   "id": "84b2b07d",
   "metadata": {},
   "outputs": [],
   "source": [
    "final_df"
   ]
  },
  {
   "cell_type": "code",
   "execution_count": null,
   "id": "51d2705b",
   "metadata": {},
   "outputs": [],
   "source": []
  }
 ],
 "metadata": {
  "kernelspec": {
   "display_name": "Python 3",
   "language": "python",
   "name": "python3"
  },
  "language_info": {
   "codemirror_mode": {
    "name": "ipython",
    "version": 3
   },
   "file_extension": ".py",
   "mimetype": "text/x-python",
   "name": "python",
   "nbconvert_exporter": "python",
   "pygments_lexer": "ipython3",
   "version": "3.6.9"
  }
 },
 "nbformat": 4,
 "nbformat_minor": 5
}
