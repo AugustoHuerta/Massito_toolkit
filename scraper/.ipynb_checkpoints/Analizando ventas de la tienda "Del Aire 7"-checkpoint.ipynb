{
 "cells": [
  {
   "cell_type": "code",
   "execution_count": 1,
   "id": "ed9793da",
   "metadata": {},
   "outputs": [],
   "source": [
    "import pandas as pd\n",
    "import numpy as np"
   ]
  },
  {
   "cell_type": "code",
   "execution_count": 4,
   "id": "3a235073",
   "metadata": {},
   "outputs": [],
   "source": [
    "df = pd.read_csv('ventas_31_dias.csv')"
   ]
  },
  {
   "cell_type": "code",
   "execution_count": 44,
   "id": "2d6cc529",
   "metadata": {},
   "outputs": [],
   "source": [
    "condition_local = df['Sucursal'] == 'Del Aire7 LV MS'\n",
    "df_del_aire = df[condition_local].reset_index()"
   ]
  },
  {
   "cell_type": "code",
   "execution_count": 45,
   "id": "cdee3bcc",
   "metadata": {},
   "outputs": [],
   "source": [
    "df_del_aire.drop('index', axis=1, inplace=True)"
   ]
  },
  {
   "cell_type": "code",
   "execution_count": 46,
   "id": "64683641",
   "metadata": {},
   "outputs": [
    {
     "name": "stdout",
     "output_type": "stream",
     "text": [
      "<class 'pandas.core.frame.DataFrame'>\n",
      "RangeIndex: 30 entries, 0 to 29\n",
      "Data columns (total 8 columns):\n",
      " #   Column    Non-Null Count  Dtype  \n",
      "---  ------    --------------  -----  \n",
      " 0   Sucursal  30 non-null     object \n",
      " 1   Vta Nta   30 non-null     object \n",
      " 2   Meta      30 non-null     object \n",
      " 3   Cump%     30 non-null     float64\n",
      " 4   Trxs      30 non-null     int64  \n",
      " 5   Vta LY    30 non-null     int64  \n",
      " 6   LY%       30 non-null     float64\n",
      " 7   Day       30 non-null     object \n",
      "dtypes: float64(2), int64(2), object(4)\n",
      "memory usage: 2.0+ KB\n"
     ]
    }
   ],
   "source": [
    "df_del_aire.info()"
   ]
  },
  {
   "cell_type": "code",
   "execution_count": 47,
   "id": "23696749",
   "metadata": {},
   "outputs": [],
   "source": [
    "df_del_aire['Vta Nta'] = df_del_aire['Vta Nta'].str.replace(',','')\n",
    "df_del_aire['Vta Nta'] = df_del_aire['Vta Nta'].astype('int')"
   ]
  },
  {
   "cell_type": "code",
   "execution_count": 50,
   "id": "c375e8c5",
   "metadata": {},
   "outputs": [],
   "source": [
    "df_del_aire['Meta'] = df_del_aire['Meta'].str.replace(',','')\n",
    "df_del_aire['Meta'] = df_del_aire['Meta'].astype('int')"
   ]
  },
  {
   "cell_type": "code",
   "execution_count": 51,
   "id": "179bec8f",
   "metadata": {},
   "outputs": [
    {
     "name": "stdout",
     "output_type": "stream",
     "text": [
      "154744 | 135242\n"
     ]
    }
   ],
   "source": [
    "print(df_del_aire['Vta Nta'].sum(), \"|\", df_del_aire['Meta'].sum())"
   ]
  },
  {
   "cell_type": "code",
   "execution_count": 52,
   "id": "29db8c54",
   "metadata": {},
   "outputs": [
    {
     "data": {
      "text/plain": [
       "1.1442007660342202"
      ]
     },
     "execution_count": 52,
     "metadata": {},
     "output_type": "execute_result"
    }
   ],
   "source": [
    "df_del_aire['Vta Nta'].sum() / df_del_aire['Meta'].sum()"
   ]
  },
  {
   "cell_type": "code",
   "execution_count": 53,
   "id": "b49a0a50",
   "metadata": {},
   "outputs": [
    {
     "data": {
      "text/plain": [
       "19502"
      ]
     },
     "execution_count": 53,
     "metadata": {},
     "output_type": "execute_result"
    }
   ],
   "source": [
    "df_del_aire['Vta Nta'].sum() - df_del_aire['Meta'].sum()"
   ]
  },
  {
   "cell_type": "code",
   "execution_count": null,
   "id": "499afde9",
   "metadata": {},
   "outputs": [],
   "source": []
  }
 ],
 "metadata": {
  "kernelspec": {
   "display_name": "Python 3",
   "language": "python",
   "name": "python3"
  },
  "language_info": {
   "codemirror_mode": {
    "name": "ipython",
    "version": 3
   },
   "file_extension": ".py",
   "mimetype": "text/x-python",
   "name": "python",
   "nbconvert_exporter": "python",
   "pygments_lexer": "ipython3",
   "version": "3.6.9"
  }
 },
 "nbformat": 4,
 "nbformat_minor": 5
}
